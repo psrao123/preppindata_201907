{
  "cells": [
    {
      "metadata": {
        "trusted": true
      },
      "cell_type": "code",
      "source": "# Import required libraries\nimport pandas as pd\nimport re\nfrom datetime import datetime",
      "execution_count": 144,
      "outputs": []
    },
    {
      "metadata": {
        "trusted": true
      },
      "cell_type": "code",
      "source": "# Get sheets from excel files and store in pandas dataframes\nxlsx = pd.ExcelFile('Week7Challenge.xlsx')\nalloc_details_df = pd.read_excel(xlsx, 'Allocation Details')\ndep_details_df = pd.read_excel(xlsx, 'Departure Details')",
      "execution_count": 145,
      "outputs": []
    },
    {
      "metadata": {
        "trusted": true
      },
      "cell_type": "code",
      "source": "# Explore the data\n#alloc_details_df.head()\n#dep_details_df.head()\n#alloc_details_df_temp.head()",
      "execution_count": 146,
      "outputs": []
    },
    {
      "metadata": {
        "trusted": true
      },
      "cell_type": "code",
      "source": "#Generate Ship ID fields from Departure ID\nalloc_details_df['Ship ID'] = alloc_details_df['Departure ID'].str.rsplit('-',3,expand=True)[0]",
      "execution_count": 147,
      "outputs": []
    },
    {
      "metadata": {
        "trusted": true
      },
      "cell_type": "code",
      "source": "#Generate Departure Date fields from Departure ID\nalloc_details_df['Departure Date'] = alloc_details_df['Departure ID'].str.split('-',2,expand=True)[2]",
      "execution_count": 148,
      "outputs": []
    },
    {
      "metadata": {
        "trusted": true
      },
      "cell_type": "code",
      "source": "#Convertt Departure Date to datetime field\nalloc_details_df['Departure Date'] = pd.to_datetime(alloc_details_df['Departure Date'],format='%d-%m-%Y')",
      "execution_count": 149,
      "outputs": []
    },
    {
      "metadata": {
        "trusted": true
      },
      "cell_type": "code",
      "source": "# Group by Ship ID & Departure Date and sum on Weight & Volume Allocated fields\naggregations = {\n    'Weight Allocated':'sum',\n    'Volume Allocated': 'sum'\n}\nalloc_details_df_temp = alloc_details_df.groupby(\n    ['Ship ID','Departure Date'], as_index=False\n    ).agg(aggregations)",
      "execution_count": 150,
      "outputs": []
    },
    {
      "metadata": {
        "trusted": true
      },
      "cell_type": "code",
      "source": "alloc_details_df_temp.head()",
      "execution_count": 151,
      "outputs": [
        {
          "output_type": "execute_result",
          "execution_count": 151,
          "data": {
            "text/html": "<div>\n<style scoped>\n    .dataframe tbody tr th:only-of-type {\n        vertical-align: middle;\n    }\n\n    .dataframe tbody tr th {\n        vertical-align: top;\n    }\n\n    .dataframe thead th {\n        text-align: right;\n    }\n</style>\n<table border=\"1\" class=\"dataframe\">\n  <thead>\n    <tr style=\"text-align: right;\">\n      <th></th>\n      <th>Ship ID</th>\n      <th>Departure Date</th>\n      <th>Weight Allocated</th>\n      <th>Volume Allocated</th>\n    </tr>\n  </thead>\n  <tbody>\n    <tr>\n      <th>0</th>\n      <td>Freighter-01</td>\n      <td>2019-04-06</td>\n      <td>1336</td>\n      <td>112</td>\n    </tr>\n    <tr>\n      <th>1</th>\n      <td>Freighter-01</td>\n      <td>2019-06-18</td>\n      <td>4580</td>\n      <td>556</td>\n    </tr>\n    <tr>\n      <th>2</th>\n      <td>Freighter-02</td>\n      <td>2019-04-10</td>\n      <td>3972</td>\n      <td>396</td>\n    </tr>\n    <tr>\n      <th>3</th>\n      <td>Freighter-02</td>\n      <td>2019-04-19</td>\n      <td>1932</td>\n      <td>200</td>\n    </tr>\n    <tr>\n      <th>4</th>\n      <td>Freighter-02</td>\n      <td>2019-05-26</td>\n      <td>4252</td>\n      <td>294</td>\n    </tr>\n  </tbody>\n</table>\n</div>",
            "text/plain": "        Ship ID Departure Date  Weight Allocated  Volume Allocated\n0  Freighter-01     2019-04-06              1336               112\n1  Freighter-01     2019-06-18              4580               556\n2  Freighter-02     2019-04-10              3972               396\n3  Freighter-02     2019-04-19              1932               200\n4  Freighter-02     2019-05-26              4252               294"
          },
          "metadata": {}
        }
      ]
    },
    {
      "metadata": {
        "trusted": true
      },
      "cell_type": "code",
      "source": "# Join alloc_details_df_temp with dep_details_df \n# on Ship ID and Departure Date\ndep_details_df_final = pd.merge(dep_details_df, \n                                alloc_details_df_temp, \n                                on=['Ship ID','Departure Date'], \n                                how='inner')",
      "execution_count": 152,
      "outputs": []
    },
    {
      "metadata": {
        "trusted": true
      },
      "cell_type": "code",
      "source": "# Check if data is ok\n#dep_details_df_final[dep_details_df_final['Ship ID']=='Tug-05']",
      "execution_count": 153,
      "outputs": []
    },
    {
      "metadata": {
        "trusted": true
      },
      "cell_type": "code",
      "source": "# Define 2 functions to check if Allocated Weight/Volume > Max Weight/Volume\ndef f(row):\n    if row['Weight Allocated'] > row['Max Weight']:\n        return True\n    else:\n        return False\ndef g(row):\n    if row['Volume Allocated'] > row['Max Volume']:\n        return True\n    else:\n        return False",
      "execution_count": 154,
      "outputs": []
    },
    {
      "metadata": {
        "trusted": true
      },
      "cell_type": "code",
      "source": "# Create Max Weight Exceeded? & Max Vol Exceeded? fields using apply()\ndep_details_df_final['Max Weight Exceeded?'] = dep_details_df_final.apply(f, axis=1)\ndep_details_df_final['Max Vol Exceeded?'] = dep_details_df_final.apply(g, axis=1)",
      "execution_count": 155,
      "outputs": []
    },
    {
      "metadata": {
        "trusted": true
      },
      "cell_type": "code",
      "source": "# Check Data\n#dep_details_df_final[dep_details_df_final['Ship ID']=='Tug-05']\ndep_details_df_final[dep_details_df_final['Ship ID']=='Freighter-01']",
      "execution_count": 156,
      "outputs": [
        {
          "output_type": "execute_result",
          "execution_count": 156,
          "data": {
            "text/html": "<div>\n<style scoped>\n    .dataframe tbody tr th:only-of-type {\n        vertical-align: middle;\n    }\n\n    .dataframe tbody tr th {\n        vertical-align: top;\n    }\n\n    .dataframe thead th {\n        text-align: right;\n    }\n</style>\n<table border=\"1\" class=\"dataframe\">\n  <thead>\n    <tr style=\"text-align: right;\">\n      <th></th>\n      <th>Ship ID</th>\n      <th>Departure Date</th>\n      <th>Max Weight</th>\n      <th>Max Volume</th>\n      <th>Weight Allocated</th>\n      <th>Volume Allocated</th>\n      <th>Max Weight Exceeded?</th>\n      <th>Max Vol Exceeded?</th>\n    </tr>\n  </thead>\n  <tbody>\n    <tr>\n      <th>3</th>\n      <td>Freighter-01</td>\n      <td>2019-04-06</td>\n      <td>5000</td>\n      <td>500</td>\n      <td>1336</td>\n      <td>112</td>\n      <td>False</td>\n      <td>False</td>\n    </tr>\n    <tr>\n      <th>52</th>\n      <td>Freighter-01</td>\n      <td>2019-06-18</td>\n      <td>5000</td>\n      <td>500</td>\n      <td>4580</td>\n      <td>556</td>\n      <td>False</td>\n      <td>True</td>\n    </tr>\n  </tbody>\n</table>\n</div>",
            "text/plain": "         Ship ID Departure Date  Max Weight  Max Volume  Weight Allocated  \\\n3   Freighter-01     2019-04-06        5000         500              1336   \n52  Freighter-01     2019-06-18        5000         500              4580   \n\n    Volume Allocated  Max Weight Exceeded?  Max Vol Exceeded?  \n3                112                 False              False  \n52               556                 False               True  "
          },
          "metadata": {}
        }
      ]
    },
    {
      "metadata": {
        "trusted": true
      },
      "cell_type": "code",
      "source": "dep_details_df_final",
      "execution_count": 157,
      "outputs": [
        {
          "output_type": "execute_result",
          "execution_count": 157,
          "data": {
            "text/html": "<div>\n<style scoped>\n    .dataframe tbody tr th:only-of-type {\n        vertical-align: middle;\n    }\n\n    .dataframe tbody tr th {\n        vertical-align: top;\n    }\n\n    .dataframe thead th {\n        text-align: right;\n    }\n</style>\n<table border=\"1\" class=\"dataframe\">\n  <thead>\n    <tr style=\"text-align: right;\">\n      <th></th>\n      <th>Ship ID</th>\n      <th>Departure Date</th>\n      <th>Max Weight</th>\n      <th>Max Volume</th>\n      <th>Weight Allocated</th>\n      <th>Volume Allocated</th>\n      <th>Max Weight Exceeded?</th>\n      <th>Max Vol Exceeded?</th>\n    </tr>\n  </thead>\n  <tbody>\n    <tr>\n      <th>0</th>\n      <td>Tug-05</td>\n      <td>2019-03-27</td>\n      <td>500</td>\n      <td>50</td>\n      <td>707</td>\n      <td>68</td>\n      <td>True</td>\n      <td>True</td>\n    </tr>\n    <tr>\n      <th>1</th>\n      <td>Freighter-04</td>\n      <td>2019-03-31</td>\n      <td>5000</td>\n      <td>500</td>\n      <td>616</td>\n      <td>106</td>\n      <td>False</td>\n      <td>False</td>\n    </tr>\n    <tr>\n      <th>2</th>\n      <td>Freighter-03</td>\n      <td>2019-04-01</td>\n      <td>5000</td>\n      <td>500</td>\n      <td>2392</td>\n      <td>232</td>\n      <td>False</td>\n      <td>False</td>\n    </tr>\n    <tr>\n      <th>3</th>\n      <td>Freighter-01</td>\n      <td>2019-04-06</td>\n      <td>5000</td>\n      <td>500</td>\n      <td>1336</td>\n      <td>112</td>\n      <td>False</td>\n      <td>False</td>\n    </tr>\n    <tr>\n      <th>4</th>\n      <td>Tanker-02</td>\n      <td>2019-04-07</td>\n      <td>1000</td>\n      <td>200</td>\n      <td>809</td>\n      <td>110</td>\n      <td>False</td>\n      <td>False</td>\n    </tr>\n    <tr>\n      <th>5</th>\n      <td>Tanker-04</td>\n      <td>2019-04-10</td>\n      <td>1000</td>\n      <td>200</td>\n      <td>257</td>\n      <td>58</td>\n      <td>False</td>\n      <td>False</td>\n    </tr>\n    <tr>\n      <th>6</th>\n      <td>Freighter-02</td>\n      <td>2019-04-10</td>\n      <td>5000</td>\n      <td>500</td>\n      <td>3972</td>\n      <td>396</td>\n      <td>False</td>\n      <td>False</td>\n    </tr>\n    <tr>\n      <th>7</th>\n      <td>Tug-05</td>\n      <td>2019-04-10</td>\n      <td>500</td>\n      <td>50</td>\n      <td>222</td>\n      <td>27</td>\n      <td>False</td>\n      <td>False</td>\n    </tr>\n    <tr>\n      <th>8</th>\n      <td>Freighter-03</td>\n      <td>2019-04-10</td>\n      <td>5000</td>\n      <td>500</td>\n      <td>3476</td>\n      <td>456</td>\n      <td>False</td>\n      <td>False</td>\n    </tr>\n    <tr>\n      <th>9</th>\n      <td>Freighter-04</td>\n      <td>2019-04-12</td>\n      <td>5000</td>\n      <td>500</td>\n      <td>2120</td>\n      <td>176</td>\n      <td>False</td>\n      <td>False</td>\n    </tr>\n    <tr>\n      <th>10</th>\n      <td>Tug-03</td>\n      <td>2019-04-14</td>\n      <td>500</td>\n      <td>50</td>\n      <td>196</td>\n      <td>43</td>\n      <td>False</td>\n      <td>False</td>\n    </tr>\n    <tr>\n      <th>11</th>\n      <td>Tug-03</td>\n      <td>2019-04-15</td>\n      <td>500</td>\n      <td>50</td>\n      <td>88</td>\n      <td>22</td>\n      <td>False</td>\n      <td>False</td>\n    </tr>\n    <tr>\n      <th>12</th>\n      <td>Tug-03</td>\n      <td>2019-04-17</td>\n      <td>500</td>\n      <td>50</td>\n      <td>521</td>\n      <td>65</td>\n      <td>True</td>\n      <td>True</td>\n    </tr>\n    <tr>\n      <th>13</th>\n      <td>Freighter-02</td>\n      <td>2019-04-19</td>\n      <td>5000</td>\n      <td>500</td>\n      <td>1932</td>\n      <td>200</td>\n      <td>False</td>\n      <td>False</td>\n    </tr>\n    <tr>\n      <th>14</th>\n      <td>Tanker-04</td>\n      <td>2019-04-21</td>\n      <td>1000</td>\n      <td>200</td>\n      <td>715</td>\n      <td>160</td>\n      <td>False</td>\n      <td>False</td>\n    </tr>\n    <tr>\n      <th>15</th>\n      <td>Tug-01</td>\n      <td>2019-04-23</td>\n      <td>500</td>\n      <td>50</td>\n      <td>1</td>\n      <td>5</td>\n      <td>False</td>\n      <td>False</td>\n    </tr>\n    <tr>\n      <th>16</th>\n      <td>Tug-02</td>\n      <td>2019-04-25</td>\n      <td>500</td>\n      <td>50</td>\n      <td>506</td>\n      <td>64</td>\n      <td>True</td>\n      <td>True</td>\n    </tr>\n    <tr>\n      <th>17</th>\n      <td>Freighter-04</td>\n      <td>2019-04-27</td>\n      <td>5000</td>\n      <td>500</td>\n      <td>2500</td>\n      <td>146</td>\n      <td>False</td>\n      <td>False</td>\n    </tr>\n    <tr>\n      <th>18</th>\n      <td>Tanker-04</td>\n      <td>2019-04-27</td>\n      <td>1000</td>\n      <td>200</td>\n      <td>924</td>\n      <td>276</td>\n      <td>False</td>\n      <td>True</td>\n    </tr>\n    <tr>\n      <th>19</th>\n      <td>Tug-01</td>\n      <td>2019-04-29</td>\n      <td>500</td>\n      <td>50</td>\n      <td>482</td>\n      <td>49</td>\n      <td>False</td>\n      <td>False</td>\n    </tr>\n    <tr>\n      <th>20</th>\n      <td>Tanker-03</td>\n      <td>2019-04-30</td>\n      <td>1000</td>\n      <td>200</td>\n      <td>660</td>\n      <td>116</td>\n      <td>False</td>\n      <td>False</td>\n    </tr>\n    <tr>\n      <th>21</th>\n      <td>Tug-01</td>\n      <td>2019-04-30</td>\n      <td>500</td>\n      <td>50</td>\n      <td>406</td>\n      <td>32</td>\n      <td>False</td>\n      <td>False</td>\n    </tr>\n    <tr>\n      <th>22</th>\n      <td>Tanker-05</td>\n      <td>2019-05-02</td>\n      <td>1000</td>\n      <td>200</td>\n      <td>353</td>\n      <td>68</td>\n      <td>False</td>\n      <td>False</td>\n    </tr>\n    <tr>\n      <th>23</th>\n      <td>Tanker-05</td>\n      <td>2019-05-03</td>\n      <td>1000</td>\n      <td>200</td>\n      <td>1007</td>\n      <td>142</td>\n      <td>True</td>\n      <td>False</td>\n    </tr>\n    <tr>\n      <th>24</th>\n      <td>Tug-04</td>\n      <td>2019-05-03</td>\n      <td>500</td>\n      <td>50</td>\n      <td>248</td>\n      <td>25</td>\n      <td>False</td>\n      <td>False</td>\n    </tr>\n    <tr>\n      <th>25</th>\n      <td>Tanker-05</td>\n      <td>2019-05-04</td>\n      <td>1000</td>\n      <td>200</td>\n      <td>481</td>\n      <td>130</td>\n      <td>False</td>\n      <td>False</td>\n    </tr>\n    <tr>\n      <th>26</th>\n      <td>Tug-03</td>\n      <td>2019-05-04</td>\n      <td>500</td>\n      <td>50</td>\n      <td>225</td>\n      <td>44</td>\n      <td>False</td>\n      <td>False</td>\n    </tr>\n    <tr>\n      <th>27</th>\n      <td>Tug-02</td>\n      <td>2019-05-11</td>\n      <td>500</td>\n      <td>50</td>\n      <td>255</td>\n      <td>31</td>\n      <td>False</td>\n      <td>False</td>\n    </tr>\n    <tr>\n      <th>28</th>\n      <td>Tanker-01</td>\n      <td>2019-05-11</td>\n      <td>1000</td>\n      <td>200</td>\n      <td>826</td>\n      <td>124</td>\n      <td>False</td>\n      <td>False</td>\n    </tr>\n    <tr>\n      <th>29</th>\n      <td>Tanker-01</td>\n      <td>2019-05-12</td>\n      <td>1000</td>\n      <td>200</td>\n      <td>570</td>\n      <td>114</td>\n      <td>False</td>\n      <td>False</td>\n    </tr>\n    <tr>\n      <th>30</th>\n      <td>Tanker-05</td>\n      <td>2019-05-20</td>\n      <td>1000</td>\n      <td>200</td>\n      <td>822</td>\n      <td>158</td>\n      <td>False</td>\n      <td>False</td>\n    </tr>\n    <tr>\n      <th>31</th>\n      <td>Tug-05</td>\n      <td>2019-05-22</td>\n      <td>500</td>\n      <td>50</td>\n      <td>269</td>\n      <td>31</td>\n      <td>False</td>\n      <td>False</td>\n    </tr>\n    <tr>\n      <th>32</th>\n      <td>Freighter-05</td>\n      <td>2019-05-23</td>\n      <td>5000</td>\n      <td>500</td>\n      <td>3052</td>\n      <td>298</td>\n      <td>False</td>\n      <td>False</td>\n    </tr>\n    <tr>\n      <th>33</th>\n      <td>Freighter-02</td>\n      <td>2019-05-26</td>\n      <td>5000</td>\n      <td>500</td>\n      <td>4252</td>\n      <td>294</td>\n      <td>False</td>\n      <td>False</td>\n    </tr>\n    <tr>\n      <th>34</th>\n      <td>Tug-05</td>\n      <td>2019-05-26</td>\n      <td>500</td>\n      <td>50</td>\n      <td>222</td>\n      <td>14</td>\n      <td>False</td>\n      <td>False</td>\n    </tr>\n    <tr>\n      <th>35</th>\n      <td>Freighter-04</td>\n      <td>2019-05-26</td>\n      <td>5000</td>\n      <td>500</td>\n      <td>1136</td>\n      <td>194</td>\n      <td>False</td>\n      <td>False</td>\n    </tr>\n    <tr>\n      <th>36</th>\n      <td>Freighter-05</td>\n      <td>2019-05-26</td>\n      <td>5000</td>\n      <td>500</td>\n      <td>1140</td>\n      <td>306</td>\n      <td>False</td>\n      <td>False</td>\n    </tr>\n    <tr>\n      <th>37</th>\n      <td>Tanker-05</td>\n      <td>2019-05-27</td>\n      <td>1000</td>\n      <td>200</td>\n      <td>813</td>\n      <td>92</td>\n      <td>False</td>\n      <td>False</td>\n    </tr>\n    <tr>\n      <th>38</th>\n      <td>Freighter-02</td>\n      <td>2019-06-03</td>\n      <td>5000</td>\n      <td>500</td>\n      <td>2976</td>\n      <td>112</td>\n      <td>False</td>\n      <td>False</td>\n    </tr>\n    <tr>\n      <th>39</th>\n      <td>Tug-01</td>\n      <td>2019-06-04</td>\n      <td>500</td>\n      <td>50</td>\n      <td>348</td>\n      <td>46</td>\n      <td>False</td>\n      <td>False</td>\n    </tr>\n    <tr>\n      <th>40</th>\n      <td>Tanker-01</td>\n      <td>2019-06-04</td>\n      <td>1000</td>\n      <td>200</td>\n      <td>1063</td>\n      <td>228</td>\n      <td>True</td>\n      <td>True</td>\n    </tr>\n    <tr>\n      <th>41</th>\n      <td>Freighter-05</td>\n      <td>2019-06-06</td>\n      <td>5000</td>\n      <td>500</td>\n      <td>3212</td>\n      <td>374</td>\n      <td>False</td>\n      <td>False</td>\n    </tr>\n    <tr>\n      <th>42</th>\n      <td>Tug-01</td>\n      <td>2019-06-07</td>\n      <td>500</td>\n      <td>50</td>\n      <td>193</td>\n      <td>20</td>\n      <td>False</td>\n      <td>False</td>\n    </tr>\n    <tr>\n      <th>43</th>\n      <td>Tanker-05</td>\n      <td>2019-06-08</td>\n      <td>1000</td>\n      <td>200</td>\n      <td>81</td>\n      <td>52</td>\n      <td>False</td>\n      <td>False</td>\n    </tr>\n    <tr>\n      <th>44</th>\n      <td>Freighter-05</td>\n      <td>2019-06-10</td>\n      <td>5000</td>\n      <td>500</td>\n      <td>3496</td>\n      <td>380</td>\n      <td>False</td>\n      <td>False</td>\n    </tr>\n    <tr>\n      <th>45</th>\n      <td>Tug-04</td>\n      <td>2019-06-11</td>\n      <td>500</td>\n      <td>50</td>\n      <td>304</td>\n      <td>41</td>\n      <td>False</td>\n      <td>False</td>\n    </tr>\n    <tr>\n      <th>46</th>\n      <td>Freighter-02</td>\n      <td>2019-06-11</td>\n      <td>5000</td>\n      <td>500</td>\n      <td>1056</td>\n      <td>102</td>\n      <td>False</td>\n      <td>False</td>\n    </tr>\n    <tr>\n      <th>47</th>\n      <td>Tanker-02</td>\n      <td>2019-06-11</td>\n      <td>1000</td>\n      <td>200</td>\n      <td>621</td>\n      <td>136</td>\n      <td>False</td>\n      <td>False</td>\n    </tr>\n    <tr>\n      <th>48</th>\n      <td>Tug-04</td>\n      <td>2019-06-12</td>\n      <td>500</td>\n      <td>50</td>\n      <td>95</td>\n      <td>1</td>\n      <td>False</td>\n      <td>False</td>\n    </tr>\n    <tr>\n      <th>49</th>\n      <td>Tug-01</td>\n      <td>2019-06-13</td>\n      <td>500</td>\n      <td>50</td>\n      <td>270</td>\n      <td>44</td>\n      <td>False</td>\n      <td>False</td>\n    </tr>\n    <tr>\n      <th>50</th>\n      <td>Tanker-05</td>\n      <td>2019-06-17</td>\n      <td>1000</td>\n      <td>200</td>\n      <td>540</td>\n      <td>58</td>\n      <td>False</td>\n      <td>False</td>\n    </tr>\n    <tr>\n      <th>51</th>\n      <td>Tug-04</td>\n      <td>2019-06-18</td>\n      <td>500</td>\n      <td>50</td>\n      <td>435</td>\n      <td>53</td>\n      <td>False</td>\n      <td>True</td>\n    </tr>\n    <tr>\n      <th>52</th>\n      <td>Freighter-01</td>\n      <td>2019-06-18</td>\n      <td>5000</td>\n      <td>500</td>\n      <td>4580</td>\n      <td>556</td>\n      <td>False</td>\n      <td>True</td>\n    </tr>\n    <tr>\n      <th>53</th>\n      <td>Freighter-05</td>\n      <td>2019-06-19</td>\n      <td>5000</td>\n      <td>500</td>\n      <td>1636</td>\n      <td>96</td>\n      <td>False</td>\n      <td>False</td>\n    </tr>\n    <tr>\n      <th>54</th>\n      <td>Freighter-04</td>\n      <td>2019-06-19</td>\n      <td>5000</td>\n      <td>500</td>\n      <td>2960</td>\n      <td>278</td>\n      <td>False</td>\n      <td>False</td>\n    </tr>\n    <tr>\n      <th>55</th>\n      <td>Tug-04</td>\n      <td>2019-06-21</td>\n      <td>500</td>\n      <td>50</td>\n      <td>37</td>\n      <td>16</td>\n      <td>False</td>\n      <td>False</td>\n    </tr>\n    <tr>\n      <th>56</th>\n      <td>Freighter-05</td>\n      <td>2019-06-26</td>\n      <td>5000</td>\n      <td>500</td>\n      <td>3304</td>\n      <td>282</td>\n      <td>False</td>\n      <td>False</td>\n    </tr>\n    <tr>\n      <th>57</th>\n      <td>Tanker-04</td>\n      <td>2019-06-27</td>\n      <td>1000</td>\n      <td>200</td>\n      <td>839</td>\n      <td>216</td>\n      <td>False</td>\n      <td>True</td>\n    </tr>\n  </tbody>\n</table>\n</div>",
            "text/plain": "         Ship ID Departure Date  Max Weight  Max Volume  Weight Allocated  \\\n0         Tug-05     2019-03-27         500          50               707   \n1   Freighter-04     2019-03-31        5000         500               616   \n2   Freighter-03     2019-04-01        5000         500              2392   \n3   Freighter-01     2019-04-06        5000         500              1336   \n4      Tanker-02     2019-04-07        1000         200               809   \n5      Tanker-04     2019-04-10        1000         200               257   \n6   Freighter-02     2019-04-10        5000         500              3972   \n7         Tug-05     2019-04-10         500          50               222   \n8   Freighter-03     2019-04-10        5000         500              3476   \n9   Freighter-04     2019-04-12        5000         500              2120   \n10        Tug-03     2019-04-14         500          50               196   \n11        Tug-03     2019-04-15         500          50                88   \n12        Tug-03     2019-04-17         500          50               521   \n13  Freighter-02     2019-04-19        5000         500              1932   \n14     Tanker-04     2019-04-21        1000         200               715   \n15        Tug-01     2019-04-23         500          50                 1   \n16        Tug-02     2019-04-25         500          50               506   \n17  Freighter-04     2019-04-27        5000         500              2500   \n18     Tanker-04     2019-04-27        1000         200               924   \n19        Tug-01     2019-04-29         500          50               482   \n20     Tanker-03     2019-04-30        1000         200               660   \n21        Tug-01     2019-04-30         500          50               406   \n22     Tanker-05     2019-05-02        1000         200               353   \n23     Tanker-05     2019-05-03        1000         200              1007   \n24        Tug-04     2019-05-03         500          50               248   \n25     Tanker-05     2019-05-04        1000         200               481   \n26        Tug-03     2019-05-04         500          50               225   \n27        Tug-02     2019-05-11         500          50               255   \n28     Tanker-01     2019-05-11        1000         200               826   \n29     Tanker-01     2019-05-12        1000         200               570   \n30     Tanker-05     2019-05-20        1000         200               822   \n31        Tug-05     2019-05-22         500          50               269   \n32  Freighter-05     2019-05-23        5000         500              3052   \n33  Freighter-02     2019-05-26        5000         500              4252   \n34        Tug-05     2019-05-26         500          50               222   \n35  Freighter-04     2019-05-26        5000         500              1136   \n36  Freighter-05     2019-05-26        5000         500              1140   \n37     Tanker-05     2019-05-27        1000         200               813   \n38  Freighter-02     2019-06-03        5000         500              2976   \n39        Tug-01     2019-06-04         500          50               348   \n40     Tanker-01     2019-06-04        1000         200              1063   \n41  Freighter-05     2019-06-06        5000         500              3212   \n42        Tug-01     2019-06-07         500          50               193   \n43     Tanker-05     2019-06-08        1000         200                81   \n44  Freighter-05     2019-06-10        5000         500              3496   \n45        Tug-04     2019-06-11         500          50               304   \n46  Freighter-02     2019-06-11        5000         500              1056   \n47     Tanker-02     2019-06-11        1000         200               621   \n48        Tug-04     2019-06-12         500          50                95   \n49        Tug-01     2019-06-13         500          50               270   \n50     Tanker-05     2019-06-17        1000         200               540   \n51        Tug-04     2019-06-18         500          50               435   \n52  Freighter-01     2019-06-18        5000         500              4580   \n53  Freighter-05     2019-06-19        5000         500              1636   \n54  Freighter-04     2019-06-19        5000         500              2960   \n55        Tug-04     2019-06-21         500          50                37   \n56  Freighter-05     2019-06-26        5000         500              3304   \n57     Tanker-04     2019-06-27        1000         200               839   \n\n    Volume Allocated  Max Weight Exceeded?  Max Vol Exceeded?  \n0                 68                  True               True  \n1                106                 False              False  \n2                232                 False              False  \n3                112                 False              False  \n4                110                 False              False  \n5                 58                 False              False  \n6                396                 False              False  \n7                 27                 False              False  \n8                456                 False              False  \n9                176                 False              False  \n10                43                 False              False  \n11                22                 False              False  \n12                65                  True               True  \n13               200                 False              False  \n14               160                 False              False  \n15                 5                 False              False  \n16                64                  True               True  \n17               146                 False              False  \n18               276                 False               True  \n19                49                 False              False  \n20               116                 False              False  \n21                32                 False              False  \n22                68                 False              False  \n23               142                  True              False  \n24                25                 False              False  \n25               130                 False              False  \n26                44                 False              False  \n27                31                 False              False  \n28               124                 False              False  \n29               114                 False              False  \n30               158                 False              False  \n31                31                 False              False  \n32               298                 False              False  \n33               294                 False              False  \n34                14                 False              False  \n35               194                 False              False  \n36               306                 False              False  \n37                92                 False              False  \n38               112                 False              False  \n39                46                 False              False  \n40               228                  True               True  \n41               374                 False              False  \n42                20                 False              False  \n43                52                 False              False  \n44               380                 False              False  \n45                41                 False              False  \n46               102                 False              False  \n47               136                 False              False  \n48                 1                 False              False  \n49                44                 False              False  \n50                58                 False              False  \n51                53                 False               True  \n52               556                 False               True  \n53                96                 False              False  \n54               278                 False              False  \n55                16                 False              False  \n56               282                 False              False  \n57               216                 False               True  "
          },
          "metadata": {}
        }
      ]
    },
    {
      "metadata": {
        "trusted": true
      },
      "cell_type": "code",
      "source": "",
      "execution_count": null,
      "outputs": []
    }
  ],
  "metadata": {
    "kernelspec": {
      "name": "python36",
      "display_name": "Python 3.6",
      "language": "python"
    },
    "language_info": {
      "mimetype": "text/x-python",
      "nbconvert_exporter": "python",
      "name": "python",
      "pygments_lexer": "ipython3",
      "version": "3.6.6",
      "file_extension": ".py",
      "codemirror_mode": {
        "version": 3,
        "name": "ipython"
      }
    }
  },
  "nbformat": 4,
  "nbformat_minor": 2
}